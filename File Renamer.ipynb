{
 "cells": [
  {
   "cell_type": "code",
   "execution_count": 1,
   "id": "67a65a3a",
   "metadata": {},
   "outputs": [],
   "source": [
    "import os\n",
    "\n",
    "#For each file in the directory, renames it to a name + the number + a file format of choice\n",
    "# In this case it's just mp4 for compatability with most of my other projects.\n",
    "# Authored by Connor Berry\n",
    "for count, filename in enumerate(os.listdir()):\n",
    "    dst = \"Zambo\" + str(count) + \".mp4\"\n",
    "    src = 'Videos' + filename\n",
    "    dst = 'Videos' + dst    \n",
    "    os.rename(src,dst)"
   ]
  }
 ],
 "metadata": {
  "kernelspec": {
   "display_name": "Python 3 (ipykernel)",
   "language": "python",
   "name": "python3"
  },
  "language_info": {
   "codemirror_mode": {
    "name": "ipython",
    "version": 3
   },
   "file_extension": ".py",
   "mimetype": "text/x-python",
   "name": "python",
   "nbconvert_exporter": "python",
   "pygments_lexer": "ipython3",
   "version": "3.8.8"
  }
 },
 "nbformat": 4,
 "nbformat_minor": 5
}
