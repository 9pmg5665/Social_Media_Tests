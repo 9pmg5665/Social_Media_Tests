{
 "cells": [
  {
   "cell_type": "code",
   "execution_count": 1,
   "id": "4ab8661a",
   "metadata": {},
   "outputs": [
    {
     "name": "stdout",
     "output_type": "stream",
     "text": [
      "current Time =  09:40:03\n"
     ]
    }
   ],
   "source": [
    "#Goals\n",
    "# To increase engagement and reach across all logical platforms, to ensure good times supremacy\n",
    "# To ensure engagement is allotted where wanted and non-intrusive\n",
    "# To ease the burden of engagement on me\n",
    "# To engage using technology as a test bed\n",
    "# For the aspiring Twitterati, hooking up a raspberry pi to a battery\n",
    "# and some natural energy generator like a windmill or solar panel, this can generate you a popular twitter account\n",
    "# granted you download a large amount of other peoples' funny jokes.\n",
    "# Authored by Connor Berry\n",
    "\n",
    "# While Tweepy and Os are needed for basic functions, Time is needed for posting on a timer\n",
    "import tweepy\n",
    "import time\n",
    "import os\n",
    "\n",
    "t = time.localtime()\n",
    "current_time = time.strftime(\"%H:%M:%S\",t)\n",
    "\n",
    "#Keys for automated access to your twitter account, to get these you'll need to access twitter dev tools.\n",
    "consumer_key = 'Your own Twitter Key'\n",
    "consumer_secret = 'Your own Twitter Secret'\n",
    "access_token = 'Your own Twitter Token'\n",
    "access_secret = 'Your own Twitter Secret'\n",
    "\n",
    "auth = tweepy.OAuthHandler(consumer_key, consumer_secret)\n",
    "auth.set_access_token(access_token, access_secret)\n",
    "api = tweepy.API(auth, wait_on_rate_limit = True)\n",
    "\n",
    "#This is the basic post of a text only tweet\n",
    "def post_tweet(text):\n",
    "    api.update_status(text)\n",
    "    \n",
    "#This posts a tweet that contains media and text\n",
    "def upload_media(text, filename):\n",
    "    media = api.media_upload(filename)\n",
    "    api.update_status(text, media_ids = [media.media_id_string])\n",
    "    \n",
    "# This prints the time but I also use it to verify that the program hasn't stopped\n",
    "#Johanna is a random name I chose for a truth variable, unnecessary personal style.\n",
    "print(\"current Time = \", current_time)\n",
    "Johanna = True\n",
    "\n",
    "#Reads a file for what number file in a self generated order stopped on\n",
    "#While this doesn't prevent repeated files if multiple of the same exist, it does prevent\n",
    "#reposting the exact same file.\n",
    "with open('truthnumber.txt','r') as f:\n",
    "    x = int(f.read())\n",
    "#Checks the time to make certain the posted time is correct, could probably be optimized\n",
    "# If the time is where you want it, posts the next file in line\n",
    "# If there's any error, with the vast majority coming from either a file incompatibility or length, skip\n",
    "# pass some time so it doesn't post multiple times, and tick the number for file retrieval up by one\n",
    "# Confirms in console that a post has occurred.\n",
    "while(Johanna == True):\n",
    "    t = time.localtime()\n",
    "    current_time = time.strftime(\"%H:%M:%S\",t)\n",
    "    \n",
    "    if current_time == '11:22:00':\n",
    "        print(files[x])\n",
    "        try:\n",
    "            upload_media('this is a timed test', 'video2.mp4')\n",
    "        except Error:\n",
    "            pass\n",
    "        x=x+1\n",
    "        time.sleep(1)\n",
    "        print(t)\n",
    "        print(\"I have posted \" + x)\n",
    "        with open('truthnumber.txt','w') as f:\n",
    "            f.write(str(x))\n",
    "    "
   ]
  }
 ],
 "metadata": {
  "kernelspec": {
   "display_name": "Python 3 (ipykernel)",
   "language": "python",
   "name": "python3"
  },
  "language_info": {
   "codemirror_mode": {
    "name": "ipython",
    "version": 3
   },
   "file_extension": ".py",
   "mimetype": "text/x-python",
   "name": "python",
   "nbconvert_exporter": "python",
   "pygments_lexer": "ipython3",
   "version": "3.8.8"
  }
 },
 "nbformat": 4,
 "nbformat_minor": 5
}
